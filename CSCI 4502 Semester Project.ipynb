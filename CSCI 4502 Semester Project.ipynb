{
 "cells": [
  {
   "cell_type": "code",
   "execution_count": 1,
   "metadata": {
    "collapsed": true
   },
   "outputs": [],
   "source": [
    "import numpy as np  \n",
    "import matplotlib.pyplot as plt  \n",
    "import pandas as pd  \n",
    "from efficient_apriori import apriori"
   ]
  },
  {
   "cell_type": "code",
   "execution_count": 2,
   "metadata": {
    "collapsed": true
   },
   "outputs": [],
   "source": [
    "## creating function to turn CSV file into a list of lists for the Apriori algorithm to use\n",
    "\n",
    "def data_cleaner(filename):\n",
    "  def data_clean():\n",
    "    with open(filename) as file:\n",
    "      for line in file:\n",
    "        yield tuple(k.strip() for k in line.split(','))      \n",
    "\n",
    "  return data_clean\n",
    "\n",
    "transactions = data_cleaner('/Users/adamgrabowski/Documents/Colorado Classes/Third Semester/CSCI 4502/Semester Project/parkingAltered.csv')\n"
   ]
  },
  {
   "cell_type": "code",
   "execution_count": 8,
   "metadata": {},
   "outputs": [],
   "source": [
    "## Intially run with full data\n",
    "\n",
    "itemsets, rules = apriori(transactions, min_support=0.2, min_confidence=0.5)"
   ]
  },
  {
   "cell_type": "code",
   "execution_count": 9,
   "metadata": {},
   "outputs": [
    {
     "name": "stdout",
     "output_type": "stream",
     "text": [
      "[{4DSD} -> {NY}, {4DSD} -> {PAS}, {AFTERNOON} -> {NY}, {AFTERNOON} -> {PAS}, {COM} -> {NY}, {GREY} -> {PAS}, {MORNING} -> {NY}, {MORNING} -> {PAS}, {PAS} -> {NY}, {NY} -> {PAS}, {SUBN} -> {NY}, {WHITE} -> {NY}, {SUBN} -> {PAS}, {MORNING, PAS} -> {NY}, {MORNING, NY} -> {PAS}, {PAS, SUBN} -> {NY}, {NY, SUBN} -> {PAS}, {SUBN} -> {NY, PAS}]\n"
     ]
    }
   ],
   "source": [
    "print(rules)"
   ]
  },
  {
   "cell_type": "code",
   "execution_count": 10,
   "metadata": {
    "collapsed": true
   },
   "outputs": [],
   "source": [
    "# data without plate attribute\n",
    "transactions_NoPlate = data_cleaner('/Users/adamgrabowski/Documents/Colorado Classes/Third Semester/CSCI 4502/Semester Project/parkingAltered_NoPlate.csv')"
   ]
  },
  {
   "cell_type": "code",
   "execution_count": 11,
   "metadata": {
    "collapsed": true
   },
   "outputs": [],
   "source": [
    "## Run again with same confidence and support, but removing plate type\n",
    "\n",
    "itemsets, rules = apriori(transactions_NoPlate, min_support=0.2, min_confidence=0.5)"
   ]
  },
  {
   "cell_type": "code",
   "execution_count": 14,
   "metadata": {},
   "outputs": [
    {
     "name": "stdout",
     "output_type": "stream",
     "text": [
      "[{4DSD} -> {NY}, {AFTERNOON} -> {NY}, {MORNING} -> {NY}, {SUBN} -> {NY}, {WHITE} -> {NY}]\n"
     ]
    }
   ],
   "source": [
    "print(rules)"
   ]
  },
  {
   "cell_type": "code",
   "execution_count": 17,
   "metadata": {
    "collapsed": true
   },
   "outputs": [],
   "source": [
    "## Since the NY transactions are so much more common than those in other states, lets just take out the \n",
    "## state attribute as well\n",
    "\n",
    "transactions_NoState = data_cleaner('/Users/adamgrabowski/Documents/Colorado Classes/Third Semester/CSCI 4502/Semester Project/parkingAltered_NoState.csv')"
   ]
  },
  {
   "cell_type": "code",
   "execution_count": 18,
   "metadata": {},
   "outputs": [],
   "source": [
    "## Run again with same confidence and support, now no State attribute\n",
    "\n",
    "itemsets, rules = apriori(transactions_NoState, min_support=0.5, min_confidence=0.5)"
   ]
  },
  {
   "cell_type": "code",
   "execution_count": 19,
   "metadata": {},
   "outputs": [
    {
     "name": "stdout",
     "output_type": "stream",
     "text": [
      "[]\n"
     ]
    }
   ],
   "source": [
    "print(rules)"
   ]
  },
  {
   "cell_type": "code",
   "execution_count": 28,
   "metadata": {
    "collapsed": true
   },
   "outputs": [],
   "source": [
    "## Lower support\n",
    "\n",
    "itemsets, rules = apriori(transactions_NoState, min_support=0.2, min_confidence=0.5)"
   ]
  },
  {
   "cell_type": "code",
   "execution_count": 29,
   "metadata": {},
   "outputs": [
    {
     "name": "stdout",
     "output_type": "stream",
     "text": [
      "[]\n"
     ]
    }
   ],
   "source": [
    "print(rules)"
   ]
  },
  {
   "cell_type": "code",
   "execution_count": 20,
   "metadata": {
    "collapsed": true
   },
   "outputs": [],
   "source": [
    "## Even lower support\n",
    "itemsets, rules = apriori(transactions_NoState, min_support=0.1, min_confidence=0.5)"
   ]
  },
  {
   "cell_type": "code",
   "execution_count": 21,
   "metadata": {},
   "outputs": [
    {
     "name": "stdout",
     "output_type": "stream",
     "text": [
      "[{21} -> {MORNING}, {VAN} -> {WHITE}]\n"
     ]
    }
   ],
   "source": [
    "print(rules)"
   ]
  },
  {
   "cell_type": "code",
   "execution_count": 22,
   "metadata": {
    "collapsed": true
   },
   "outputs": [],
   "source": [
    "## Lower support still to lower support\n",
    "\n",
    "itemsets, rules = apriori(transactions_NoState, min_support=0.05, min_confidence=0.5)"
   ]
  },
  {
   "cell_type": "code",
   "execution_count": 23,
   "metadata": {},
   "outputs": [
    {
     "name": "stdout",
     "output_type": "stream",
     "text": [
      "[{7} -> {0}, {21} -> {MORNING}, {37} -> {AFTERNOON}, {38} -> {AFTERNOON}, {DELV} -> {WHITE}, {VAN} -> {WHITE}]\n"
     ]
    }
   ],
   "source": [
    "print(rules)"
   ]
  },
  {
   "cell_type": "code",
   "execution_count": 24,
   "metadata": {
    "collapsed": true
   },
   "outputs": [],
   "source": [
    "itemsets, rules = apriori(transactions_NoState, min_support=0.02, min_confidence=0.5)"
   ]
  },
  {
   "cell_type": "code",
   "execution_count": 25,
   "metadata": {},
   "outputs": [
    {
     "name": "stdout",
     "output_type": "stream",
     "text": [
      "[{5} -> {0}, {7} -> {0}, {21} -> {MORNING}, {37} -> {AFTERNOON}, {38} -> {AFTERNOON}, {BROWN} -> {AFTERNOON}, {CHEVR} -> {WHITE}, {DELV} -> {MORNING}, {DELV} -> {WHITE}, {JEEP} -> {SUBN}, {VAN} -> {WHITE}, {4DSD, 7} -> {0}, {7, AFTERNOON} -> {0}, {7, SUBN} -> {0}, {21, 4DSD} -> {MORNING}, {21, BLACK} -> {MORNING}, {21, GREY} -> {MORNING}, {21, SUBN} -> {MORNING}, {21, WHITE} -> {MORNING}, {37, SUBN} -> {AFTERNOON}, {38, 4DSD} -> {AFTERNOON}, {38, SUBN} -> {AFTERNOON}, {AFTERNOON, FORD} -> {WHITE}, {AFTERNOON, VAN} -> {WHITE}, {CHEVR, WHITE} -> {VAN}, {CHEVR, VAN} -> {WHITE}, {DELV, WHITE} -> {MORNING}, {DELV, MORNING} -> {WHITE}, {FORD, WHITE} -> {VAN}, {FORD, VAN} -> {WHITE}, {MORNING, VAN} -> {WHITE}, {FORD, MORNING, WHITE} -> {VAN}, {FORD, MORNING, VAN} -> {WHITE}]\n"
     ]
    }
   ],
   "source": [
    "print(rules)"
   ]
  },
  {
   "cell_type": "code",
   "execution_count": 26,
   "metadata": {
    "collapsed": true
   },
   "outputs": [],
   "source": [
    "## Out of the expanded options, lets see which still hold with higher condifdence\n",
    "\n",
    "itemsets, rules = apriori(transactions_NoState, min_support=0.02, min_confidence=0.7)"
   ]
  },
  {
   "cell_type": "code",
   "execution_count": 27,
   "metadata": {},
   "outputs": [
    {
     "name": "stdout",
     "output_type": "stream",
     "text": [
      "[{5} -> {0}, {7} -> {0}, {21} -> {MORNING}, {JEEP} -> {SUBN}, {4DSD, 7} -> {0}, {7, AFTERNOON} -> {0}, {7, SUBN} -> {0}, {21, 4DSD} -> {MORNING}, {21, BLACK} -> {MORNING}, {21, GREY} -> {MORNING}, {21, SUBN} -> {MORNING}, {21, WHITE} -> {MORNING}, {37, SUBN} -> {AFTERNOON}, {CHEVR, VAN} -> {WHITE}, {FORD, VAN} -> {WHITE}, {MORNING, VAN} -> {WHITE}, {FORD, MORNING, VAN} -> {WHITE}]\n"
     ]
    }
   ],
   "source": [
    "print(rules)"
   ]
  },
  {
   "cell_type": "code",
   "execution_count": null,
   "metadata": {
    "collapsed": true
   },
   "outputs": [],
   "source": []
  }
 ],
 "metadata": {
  "kernelspec": {
   "display_name": "Python 3",
   "language": "python",
   "name": "python3"
  },
  "language_info": {
   "codemirror_mode": {
    "name": "ipython",
    "version": 3
   },
   "file_extension": ".py",
   "mimetype": "text/x-python",
   "name": "python",
   "nbconvert_exporter": "python",
   "pygments_lexer": "ipython3",
   "version": "3.6.3"
  }
 },
 "nbformat": 4,
 "nbformat_minor": 2
}
